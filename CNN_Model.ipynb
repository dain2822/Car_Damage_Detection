{
 "cells": [
  {
   "cell_type": "code",
   "execution_count": null,
   "metadata": {
    "vscode": {
     "languageId": "plaintext"
    }
   },
   "outputs": [],
   "source": [
    "# 필요한 모듈 임포트\n",
    "import tensorflow as tf\n",
    "from tensorflow.keras import Sequential\n",
    "from tensorflow.keras.layers import Conv2D, MaxPooling2D, Flatten, Dense\n",
    "from tensorflow.keras.preprocessing.image import ImageDataGenerator\n",
    "\n",
    "# 데이터 경로 설정\n",
    "train_dir = 'car-damage-dataset/data1a/training'  # 학습 데이터 폴더 경로\n",
    "validation_dir = 'car-damage-dataset/data1a/validation'  # 검증 데이터 폴더 경로\n",
    "\n",
    "# ImageDataGenerator 설정\n",
    "train_datagen = ImageDataGenerator(\n",
    "    rescale=1./255,\n",
    "    rotation_range=20,\n",
    "    width_shift_range=0.2,\n",
    "    height_shift_range=0.2,\n",
    "    shear_range=0.2,\n",
    "    zoom_range=0.2,\n",
    "    horizontal_flip=True,\n",
    "    fill_mode='nearest'\n",
    ")\n",
    "\n",
    "validation_datagen = ImageDataGenerator(rescale=1./255)\n",
    "\n",
    "# ImageDataGenerator에서 이미지 불러오기\n",
    "train_generator = train_datagen.flow_from_directory(\n",
    "    train_dir,\n",
    "    target_size=(256, 256),  # 이미지 크기 128x128로 조정\n",
    "    batch_size=32,\n",
    "    class_mode='binary'  # 이진 분류\n",
    ")\n",
    "\n",
    "validation_generator = validation_datagen.flow_from_directory(\n",
    "    validation_dir,\n",
    "    target_size=(256, 256),  # 이미지 크기 128x128로 조정\n",
    "    batch_size=32,\n",
    "    class_mode='binary'\n",
    ")\n",
    "\n",
    "# 모델 설계\n",
    "model = Sequential([\n",
    "    Conv2D(32, (3, 3), activation='relu', input_shape=(256, 256, 3)),\n",
    "    MaxPooling2D(pool_size=(2, 2)),\n",
    "    Conv2D(64, (3, 3), activation='relu'),\n",
    "    MaxPooling2D(pool_size=(2, 2)),\n",
    "    Conv2D(128, (3, 3), activation='relu'),\n",
    "    MaxPooling2D(pool_size=(2, 2)),\n",
    "    Flatten(),\n",
    "    Dense(512, activation='relu'),  # 은닉층 크기 설정\n",
    "    Dense(1, activation='sigmoid')  # 이진 분류를 위한 출력층\n",
    "])\n",
    "\n",
    "# 모델 컴파일\n",
    "model.compile(optimizer='adam', loss='binary_crossentropy', metrics=['accuracy'])\n",
    "\n",
    "# 모델 학습\n",
    "history = model.fit(\n",
    "    train_generator,\n",
    "    steps_per_epoch=len(train_generator),\n",
    "    epochs=100,  # 에포크 수 설정\n",
    "    validation_data=validation_generator,\n",
    "    validation_steps=len(validation_generator)\n",
    ")\n"
   ]
  },
  {
   "cell_type": "code",
   "execution_count": null,
   "metadata": {
    "vscode": {
     "languageId": "plaintext"
    }
   },
   "outputs": [],
   "source": [
    "# 모델 저장\n",
    "model.save('car_damage_detection_model.h5')\n"
   ]
  },
  {
   "cell_type": "code",
   "execution_count": null,
   "metadata": {
    "vscode": {
     "languageId": "plaintext"
    }
   },
   "outputs": [],
   "source": [
    "import os\n",
    "import numpy as np\n",
    "from tensorflow.keras.preprocessing import image\n",
    "import tensorflow as tf\n",
    "\n",
    "# 모델 불러오기\n",
    "model = tf.keras.models.load_model('car_damage_detection_model.h5')\n",
    "\n",
    "# 예측할 이미지가 있는 폴더 경로\n",
    "img_dir = 'car-damage-dataset/test'  # 예측할 이미지 폴더 경로\n",
    "\n",
    "# 이미지 파일 확장자 목록\n",
    "valid_extensions = ('.jpg', '.jpeg', '.png', '.bmp')\n",
    "\n",
    "# 폴더 내 모든 이미지 파일에 대해 반복하며 예측\n",
    "for img_file in os.listdir(img_dir):\n",
    "    if img_file.lower().endswith(valid_extensions):  # 이미지 파일만 선택\n",
    "        img_path = os.path.join(img_dir, img_file)\n",
    "        try:\n",
    "            # 이미지 불러오기 및 전처리\n",
    "            img = image.load_img(img_path, target_size=(256, 256))  # 모델의 입력 크기에 맞게 조정\n",
    "            img_array = image.img_to_array(img) / 255.0  # 정규화 (0~1 범위)\n",
    "            img_array = np.expand_dims(img_array, axis=0)  # 배치 차원 추가 (1, 128, 128, 3)\n",
    "\n",
    "            # 모델 예측\n",
    "            prediction = model.predict(img_array)\n",
    "\n",
    "            predicted_prob = prediction[0][0]\n",
    "            # 예측 결과 출력 (이진 분류)\n",
    "            if predicted_prob > 0.5:\n",
    "                print(f\"{img_file}: 비파손 (Damage-free)\")\n",
    "            else:\n",
    "                print(f\"{img_file}: 파손 (Damaged)\")\n",
    "\n",
    "        except Exception as e:\n",
    "            print(f\"Error processing {img_file}: {e}\")\n"
   ]
  },
  {
   "cell_type": "code",
   "execution_count": null,
   "metadata": {
    "vscode": {
     "languageId": "plaintext"
    }
   },
   "outputs": [],
   "source": []
  }
 ],
 "metadata": {
  "language_info": {
   "name": "python"
  }
 },
 "nbformat": 4,
 "nbformat_minor": 2
}
